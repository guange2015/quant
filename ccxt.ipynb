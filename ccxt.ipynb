{
 "cells": [
  {
   "cell_type": "markdown",
   "metadata": {},
   "source": [
    "### 初始化\n"
   ]
  },
  {
   "cell_type": "code",
   "execution_count": 228,
   "metadata": {},
   "outputs": [
    {
     "data": {
      "text/plain": [
       "132"
      ]
     },
     "execution_count": 228,
     "metadata": {},
     "output_type": "execute_result"
    }
   ],
   "source": [
    "import ccxt\n",
    "from pprint import pprint\n",
    "\n",
    "apiKey    = '4220f832-8472ec28-af953fe9-6c911'\n",
    "apiSecret = '7f6602c7-a27a1c32-439c7d1b-3a0d0'\n",
    "\n",
    "# 获取所有交易所\n",
    "exchanges = ccxt.exchanges\n",
    "len(exchanges)\n"
   ]
  },
  {
   "cell_type": "code",
   "execution_count": 251,
   "metadata": {},
   "outputs": [
    {
     "name": "stdout",
     "output_type": "stream",
     "text": [
      "{'active': True,\n",
      " 'base': 'BTC',\n",
      " 'baseId': 'btc',\n",
      " 'fee_loaded': False,\n",
      " 'id': 'btcusdt',\n",
      " 'info': {'amount-precision': 4,\n",
      "          'base-currency': 'btc',\n",
      "          'price-precision': 2,\n",
      "          'quote-currency': 'usdt',\n",
      "          'symbol': 'btcusdt',\n",
      "          'symbol-partition': 'main'},\n",
      " 'limits': {'amount': {'max': 10000.0, 'min': 0.0001},\n",
      "            'cost': {'max': None, 'min': 0},\n",
      "            'price': {'max': None, 'min': 0.01}},\n",
      " 'maker': 0.002,\n",
      " 'percentage': True,\n",
      " 'precision': {'amount': 4, 'price': 2},\n",
      " 'quote': 'USDT',\n",
      " 'quoteId': 'usdt',\n",
      " 'symbol': 'BTC/USDT',\n",
      " 'taker': 0.002,\n",
      " 'tierBased': False}\n"
     ]
    }
   ],
   "source": [
    "# 获取火币交易所\n",
    "exchange = ccxt.huobipro({\n",
    "    'proxies': {\n",
    "        'http': 'http://127.0.0.1:1087',\n",
    "        'https': 'https://127.0.0.1:1087',\n",
    "    },\n",
    "    'apiKey': apiKey,\n",
    "    'secret': apiSecret,\n",
    "    #'verbose': True,\n",
    "})\n",
    "\n",
    "#exchange.calculateFee('BTC/USDT', 'maker', 2, 3,2)\n",
    "\n",
    "# 获取所有markets\n",
    "markets = exchange.load_markets()\n",
    "#pprint(markets)\n",
    "# maker 挂单手续费\n",
    "# taker 吃单手续费\n",
    "pprint(markets['BTC/USDT'])"
   ]
  },
  {
   "cell_type": "code",
   "execution_count": 256,
   "metadata": {},
   "outputs": [
    {
     "name": "stdout",
     "output_type": "stream",
     "text": [
      "挂单手续费0.002000\n",
      "吃单手续费0.002000\n"
     ]
    }
   ],
   "source": [
    "#获取手续费\n",
    "print('挂单手续费%f' % markets['BTC/USDT']['maker'])\n",
    "\n",
    "print('吃单手续费%f' % markets['BTC/USDT']['taker'])"
   ]
  },
  {
   "cell_type": "code",
   "execution_count": 227,
   "metadata": {},
   "outputs": [
    {
     "data": {
      "text/plain": [
       "{'id': 'btc',\n",
       " 'code': 'BTC',\n",
       " 'type': 'crypto',\n",
       " 'name': 'BTC',\n",
       " 'active': True,\n",
       " 'fee': None,\n",
       " 'precision': 8,\n",
       " 'limits': {'amount': {'min': 1e-08, 'max': 100000000.0},\n",
       "  'price': {'min': 1e-08, 'max': 100000000.0},\n",
       "  'cost': {'min': None, 'max': None},\n",
       "  'deposit': {'min': 0.001, 'max': 100000000.0},\n",
       "  'withdraw': {'min': 0.01, 'max': 100000000.0}},\n",
       " 'info': {'currency-addr-with-tag': False,\n",
       "  'fast-confirms': 1,\n",
       "  'safe-confirms': 6,\n",
       "  'currency-partition': 'all',\n",
       "  'quote-currency': True,\n",
       "  'support-sites': ['OTC', 'FUTURES'],\n",
       "  'withdraw-min-amount': '0.01',\n",
       "  'deposit-min-amount': '0.001',\n",
       "  'otc-enable': 1,\n",
       "  'show-precision': '8',\n",
       "  'visible-assets-timestamp': 1504248000000,\n",
       "  'deposit-enable-timestamp': 1504248000000,\n",
       "  'withdraw-enable-timestamp': 1504248000000,\n",
       "  'weight': 9999,\n",
       "  'withdraw-precision': 8,\n",
       "  'tags': '',\n",
       "  'currency-type': 'btc',\n",
       "  'visible': True,\n",
       "  'white-enabled': False,\n",
       "  'country-disabled': False,\n",
       "  'deposit-enabled': True,\n",
       "  'withdraw-enabled': True,\n",
       "  'name': 'btc',\n",
       "  'state': 'online',\n",
       "  'display-name': 'BTC',\n",
       "  'deposit-desc': 'Please don’t deposit any other digital assets except BTC  to the above address. Otherwise, you may lose your assets permanently. !>_<!Depositing to the above address requires confirmations of the entire network. It will arrive after 1 confirmations, and it will be available to withdraw after 6 confirmations. !>_<!Minimum deposit amount: 0.001 BTC. Any deposits less than the minimum will not be credited or refunded.!>_<!Your deposit address won’t change often. If there are any changes, we will notify you via announcement or email.!>_<!Please make sure that your computer and browser are secure and your information is protected from being tampered or leaked.',\n",
       "  'withdraw-desc': 'Minimum withdrawal amount: 0.01  BTC. !>_<!To ensure the safety of your funds, your withdrawal request will be manually reviewed if your security strategy or password is changed. Please wait for phone calls or emails from our staff.!>_<!Please make sure that your computer and browser are secure and your information is protected from being tampered or leaked.',\n",
       "  'suspend-visible-desc': '',\n",
       "  'suspend-deposit-desc': '',\n",
       "  'suspend-withdraw-desc': ''}}"
      ]
     },
     "execution_count": 227,
     "metadata": {},
     "output_type": "execute_result"
    }
   ],
   "source": [
    "exchange.fetchCurrencies()['BTC']"
   ]
  },
  {
   "cell_type": "code",
   "execution_count": 225,
   "metadata": {},
   "outputs": [
    {
     "data": {
      "text/plain": [
       "{'fee_loaded': False,\n",
       " 'percentage': True,\n",
       " 'tierBased': True,\n",
       " 'maker': 0.001,\n",
       " 'taker': 0.002,\n",
       " 'tiers': {'taker': [[0, 0.002],\n",
       "   [500000, 0.002],\n",
       "   [1000000, 0.002],\n",
       "   [2500000, 0.002],\n",
       "   [5000000, 0.002],\n",
       "   [7500000, 0.002],\n",
       "   [10000000, 0.0018],\n",
       "   [15000000, 0.0016],\n",
       "   [20000000, 0.0014000000000000002],\n",
       "   [25000000, 0.0012],\n",
       "   [30000000, 0.001]],\n",
       "  'maker': [[0, 0.001],\n",
       "   [500000, 0.0008],\n",
       "   [1000000, 0.0006],\n",
       "   [2500000, 0.0004],\n",
       "   [5000000, 0.0002],\n",
       "   [7500000, 0],\n",
       "   [10000000, 0],\n",
       "   [15000000, 0],\n",
       "   [20000000, 0],\n",
       "   [25000000, 0],\n",
       "   [30000000, 0]]},\n",
       " 'precision': {'price': 5, 'amount': 5},\n",
       " 'limits': {'amount': {'min': 6.0, 'max': 50000.0},\n",
       "  'price': {'min': 1e-05, 'max': 100000.0},\n",
       "  'cost': {'min': 6.000000000000001e-05, 'max': None}},\n",
       " 'id': 'tEOSUSD',\n",
       " 'symbol': 'EOS/USD',\n",
       " 'base': 'EOS',\n",
       " 'quote': 'USD',\n",
       " 'baseId': 'fEOS',\n",
       " 'quoteId': 'fUSD',\n",
       " 'active': True,\n",
       " 'info': {'pair': 'eosusd',\n",
       "  'price_precision': 5,\n",
       "  'initial_margin': '30.0',\n",
       "  'minimum_margin': '15.0',\n",
       "  'maximum_order_size': '50000.0',\n",
       "  'minimum_order_size': '6.0',\n",
       "  'expiration': 'NA',\n",
       "  'margin': True}}"
      ]
     },
     "execution_count": 225,
     "metadata": {},
     "output_type": "execute_result"
    }
   ],
   "source": [
    "bitmex = ccxt.bitfinex2({\n",
    "    'proxies': {\n",
    "        'http': 'http://127.0.0.1:1087',\n",
    "        'https': 'https://127.0.0.1:1087',\n",
    "    }\n",
    "})\n",
    "\n",
    "markets = bitmex.load_markets()\n",
    "markets['EOS/USD']\n",
    "\n",
    "#bitmex.fetchCurrencies()"
   ]
  },
  {
   "cell_type": "markdown",
   "metadata": {},
   "source": [
    "### 获取价格"
   ]
  },
  {
   "cell_type": "code",
   "execution_count": 188,
   "metadata": {},
   "outputs": [
    {
     "name": "stdout",
     "output_type": "stream",
     "text": [
      "3687.71\n"
     ]
    }
   ],
   "source": [
    "print(exchange.fetch_ticker('BTC/USDT')['last'])"
   ]
  },
  {
   "cell_type": "markdown",
   "metadata": {},
   "source": [
    "### 获取帐户余额"
   ]
  },
  {
   "cell_type": "code",
   "execution_count": 59,
   "metadata": {},
   "outputs": [
    {
     "data": {
      "text/plain": [
       "{'free': 37.861046, 'used': 0.0, 'total': 37.861046}"
      ]
     },
     "execution_count": 59,
     "metadata": {},
     "output_type": "execute_result"
    }
   ],
   "source": [
    "exchange.fetch_balance()['EOS']"
   ]
  },
  {
   "cell_type": "markdown",
   "metadata": {},
   "source": [
    "\n",
    "### 获取交易\n"
   ]
  },
  {
   "cell_type": "code",
   "execution_count": null,
   "metadata": {},
   "outputs": [],
   "source": [
    "exchange.fetchTrades('EOS/BTC')"
   ]
  },
  {
   "cell_type": "code",
   "execution_count": 329,
   "metadata": {},
   "outputs": [
    {
     "name": "stdout",
     "output_type": "stream",
     "text": [
      "bid_price    150\n",
      "bid_num      150\n",
      "ask_price    150\n",
      "ask_num      150\n",
      "exchange     150\n",
      "dtype: int64\n"
     ]
    }
   ],
   "source": [
    "import pandas as pd\n",
    "orders = exchange.fetch_order_book('EOS/BTC')\n",
    "df = pd.DataFrame(orders['bids'])\n",
    "df = df.merge(pd.DataFrame(orders['asks']),left_index=True, right_index=True)\n",
    "\n",
    "\n",
    "df.columns = ['bid_price','bid_num', 'ask_price', 'ask_num']\n",
    "\n",
    "df['exchange'] = 'bian'\n",
    "\n",
    "df.sort_values(by='bid_price', ascending=False)\n",
    "\n",
    "len(df.columns)\n",
    "\n",
    "print(df.count())"
   ]
  },
  {
   "cell_type": "code",
   "execution_count": 334,
   "metadata": {},
   "outputs": [
    {
     "name": "stdout",
     "output_type": "stream",
     "text": [
      "最高卖出价75.000000 交易所 bitlish\n",
      "最低买入价83.330000 交易所 bitlish\n",
      "买入手续费0.003000\n",
      "卖出手续费0.000000\n",
      "bitlish提现手续费0.001000\n",
      "bitlish提现手续费0.001000\n",
      "比值: -8.335000\n"
     ]
    }
   ],
   "source": [
    "import json\n",
    "\n",
    "datas = None\n",
    "with open('/tmp/test_20181219214214.json') as f:\n",
    "    datas = json.loads(f.read())\n",
    "\n",
    "    \n",
    "symbol = 'BCH/USDT'\n",
    "proxies = {\n",
    "    'http': 'http://127.0.0.1:1087',\n",
    "    'https': 'https://127.0.0.1:1087',\n",
    "}\n",
    "\n",
    "#提现手续费1\n",
    "withDrawFee1 = 0.001\n",
    "#提现手续费2\n",
    "withDrawFee2 = 0.001\n",
    "\n",
    "min_threshold = 0\n",
    "max_threshold = 100\n",
    "\n",
    "    \n",
    "gf = None\n",
    "for i in datas:\n",
    "    df = pd.DataFrame(i['bids'])\n",
    "    df = df.merge(pd.DataFrame(i['asks']), left_index=True, right_index=True)\n",
    "    df['exchange'] = i['exchange']\n",
    "    if len(df.columns)<5: continue\n",
    "    if gf is None:\n",
    "        gf = df\n",
    "    else:\n",
    "        gf = pd.concat([gf, df])\n",
    "\n",
    "    \n",
    "gf.columns = ['bid_price','bid_num', 'ask_price', 'ask_num', 'exchange']\n",
    "gf = gf[(gf['bid_price']>min_threshold) & (gf['ask_price']<max_threshold) & (gf['exchange']!='hitbtc') & (gf['exchange']!='hitbtc2')]\n",
    "\n",
    "#bid 买家愿意买的最高价\n",
    "#ask 卖家愿意卖的最低价\n",
    "maxBid = gf.sort_values(by='bid_price', ascending=False).head(5)\n",
    "minAsk = gf.sort_values(by='ask_price', ascending=True).head(5)\n",
    "\n",
    "# print(maxBid[['bid_price', 'exchange']])\n",
    "# print (minAsk[['ask_price', 'exchange']])\n",
    "\n",
    "maxBid['bid_price'] - minAsk.iloc[0]['bid_price']\n",
    "\n",
    "# 最高卖出价 - (最低买入价 + 买入手续费 + 提现手续费 + 卖出手续费 + 提现手续费)\n",
    "maxforSell = maxBid.iloc[0]['bid_price'] \n",
    "minForBuy  = minAsk.iloc[0]['ask_price']\n",
    "\n",
    "def getTakerFee(exchange_name, symbol):\n",
    "    exchange = getattr(ccxt, exchange_name)({'proxies': proxies})\n",
    "    markets = exchange.load_markets()\n",
    "    return markets[symbol]['taker']\n",
    "\n",
    "def getMakerFee(exchange_name, symbol):\n",
    "    exchange = getattr(ccxt, exchange_name)({'proxies': proxies})\n",
    "    markets = exchange.load_markets()\n",
    "    return markets[symbol]['maker']\n",
    "\n",
    "takerFee = getTakerFee(minAsk.iloc[0]['exchange'], symbol)\n",
    "makerFee = getMakerFee(maxBid.iloc[0]['exchange'], symbol)\n",
    "\n",
    "\n",
    "\n",
    "print(\"最高卖出价%f 交易所 %s\" % (maxforSell,maxBid.iloc[0]['exchange'] ) )\n",
    "print(\"最低买入价%f 交易所 %s\" % (minForBuy,minAsk.iloc[0]['exchange']))\n",
    "print(\"买入手续费%f\" % takerFee)\n",
    "print(\"卖出手续费%f\" % makerFee)\n",
    "print(\"%s提现手续费%f\" % (maxBid.iloc[0]['exchange'], withDrawFee1))\n",
    "print(\"%s提现手续费%f\" % (minAsk.iloc[0]['exchange'], withDrawFee2))\n",
    "\n",
    "print('比值: %f' % (maxforSell- (minForBuy+takerFee+makerFee+withDrawFee1+withDrawFee2) ) )\n"
   ]
  }
 ],
 "metadata": {
  "kernelspec": {
   "display_name": "Python 3",
   "language": "python",
   "name": "python3"
  },
  "language_info": {
   "codemirror_mode": {
    "name": "ipython",
    "version": 3
   },
   "file_extension": ".py",
   "mimetype": "text/x-python",
   "name": "python",
   "nbconvert_exporter": "python",
   "pygments_lexer": "ipython3",
   "version": "3.7.0"
  }
 },
 "nbformat": 4,
 "nbformat_minor": 2
}
